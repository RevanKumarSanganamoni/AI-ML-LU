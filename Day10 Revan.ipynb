{
 "cells": [
  {
   "cell_type": "markdown",
   "metadata": {},
   "source": [
    "# Revan Kumar Sanganamoni AIML LetsUpgrade"
   ]
  },
  {
   "cell_type": "markdown",
   "metadata": {},
   "source": [
    "Day10 Assignment"
   ]
  },
  {
   "cell_type": "raw",
   "metadata": {},
   "source": [
    "Q1:Camparision Element wise:"
   ]
  },
  {
   "cell_type": "code",
   "execution_count": 51,
   "metadata": {},
   "outputs": [
    {
     "name": "stdout",
     "output_type": "stream",
     "text": [
      "Original numbers:\n",
      "array 1 is:  [3 5 8 1 6]\n",
      "array 2 is:  [2 5 4 6 6]\n",
      "Comparison of greater than is:  [ True False  True False False]\n",
      "\n",
      "\n",
      "[3 5 8 1 6] [2 5 4 6 6]\n",
      "Comparison of greater than_equal is:  [ True  True  True False  True]\n",
      "\n",
      "\n",
      "[3 5 8 1 6] [2 5 4 6 6]\n",
      "Comparison of less than is:  [False False False  True False]\n",
      "\n",
      "\n",
      "[3 5 8 1 6] [2 5 4 6 6]\n",
      "Comparison of less than_equal is:  [False  True False  True  True]\n"
     ]
    }
   ],
   "source": [
    "import numpy as np\n",
    "x = np.array([3, 5,8,1,6])\n",
    "y = np.array([2, 5,4,6,6])\n",
    "print(\"Original numbers:\")\n",
    "print(\"array 1 is: \",x)\n",
    "print(\"array 2 is: \",y)\n",
    "print(\"Comparison of greater than is: \",np.greater(x, y))\n",
    "print(\"\\n\")\n",
    "print(x,y)\n",
    "print(\"Comparison of greater than_equal is: \",np.greater_equal(x, y))\n",
    "print(\"\\n\")\n",
    "print(x,y)\n",
    "print(\"Comparison of less than is: \",np.less(x, y))\n",
    "print(\"\\n\")\n",
    "print(x,y)\n",
    "print(\"Comparison of less than_equal is: \",np.less_equal(x, y))"
   ]
  },
  {
   "cell_type": "raw",
   "metadata": {},
   "source": [
    "Explaining each one by one:"
   ]
  },
  {
   "cell_type": "code",
   "execution_count": 39,
   "metadata": {},
   "outputs": [
    {
     "data": {
      "text/plain": [
       "array([ True, False])"
      ]
     },
     "execution_count": 39,
     "metadata": {},
     "output_type": "execute_result"
    }
   ],
   "source": [
    "import numpy as np\n",
    "np.greater([6,2],[5,4])\n",
    "\n",
    "\n",
    "#here,6 is >  5\n",
    "#     2 is !> 4"
   ]
  },
  {
   "cell_type": "code",
   "execution_count": 30,
   "metadata": {},
   "outputs": [
    {
     "name": "stdout",
     "output_type": "stream",
     "text": [
      "True\n",
      "False\n"
     ]
    }
   ],
   "source": [
    "a=[6,2]\n",
    "b=[5,4]\n",
    "print(a>b)\n",
    "print(a<b)"
   ]
  },
  {
   "cell_type": "code",
   "execution_count": 36,
   "metadata": {},
   "outputs": [
    {
     "data": {
      "text/plain": [
       "array([ True, False,  True, False])"
      ]
     },
     "execution_count": 36,
     "metadata": {},
     "output_type": "execute_result"
    }
   ],
   "source": [
    "np.greater_equal([5,1,4,3],[2,3,3,4])\n",
    "#here,5 is >= 2\n",
    "#       1 is !>= 3\n",
    "#       4 is >=3\n",
    "#       3 is !>= 4"
   ]
  },
  {
   "cell_type": "code",
   "execution_count": 38,
   "metadata": {},
   "outputs": [
    {
     "data": {
      "text/plain": [
       "array([False,  True])"
      ]
     },
     "execution_count": 38,
     "metadata": {},
     "output_type": "execute_result"
    }
   ],
   "source": [
    "import numpy as np\n",
    "np.less([6,2],[5,4])\n",
    "# here, 6 !< 5\n",
    "#       2 <  4"
   ]
  },
  {
   "cell_type": "code",
   "execution_count": 42,
   "metadata": {},
   "outputs": [
    {
     "data": {
      "text/plain": [
       "array([False,  True, False,  True])"
      ]
     },
     "execution_count": 42,
     "metadata": {},
     "output_type": "execute_result"
    }
   ],
   "source": [
    "np.less_equal([5,1,4,3],[2,3,3,4])\n",
    "#here,5 is !<= 2\n",
    "#       1 is <= 3\n",
    "#       4 is !<=3\n",
    "#       3 is <= 4"
   ]
  },
  {
   "cell_type": "raw",
   "metadata": {},
   "source": []
  },
  {
   "cell_type": "raw",
   "metadata": {},
   "source": [
    "Q2: array of 10 (0 , 1, 5)??"
   ]
  },
  {
   "cell_type": "code",
   "execution_count": 66,
   "metadata": {},
   "outputs": [
    {
     "name": "stdout",
     "output_type": "stream",
     "text": [
      "array of zeros is:  [0. 0. 0. 0. 0. 0. 0. 0. 0. 0.]\n",
      "array of ones is:   [1. 1. 1. 1. 1. 1. 1. 1. 1. 1.]\n",
      "array of fives is:  [5. 5. 5. 5. 5. 5. 5. 5. 5. 5.]\n"
     ]
    }
   ],
   "source": [
    "import numpy as np\n",
    "array=np.zeros(10)\n",
    "print(\"array of zeros is: \",array)\n",
    "array=np.ones(10)\n",
    "print(\"array of ones is:  \",array)\n",
    "array=np.ones(10)*5\n",
    "print(\"array of fives is: \",array)\n",
    "\n"
   ]
  },
  {
   "cell_type": "raw",
   "metadata": {},
   "source": [
    "Q3:compute sum all of array,sum of column and rows?"
   ]
  },
  {
   "cell_type": "code",
   "execution_count": 69,
   "metadata": {},
   "outputs": [
    {
     "name": "stdout",
     "output_type": "stream",
     "text": [
      "Original array:\n",
      "[[3 7]\n",
      " [4 9]]\n",
      "Sum of all elements:\n",
      "23\n",
      "Sum of each column:\n",
      "[ 7 16]\n",
      "Sum of each row:\n",
      "[10 13]\n"
     ]
    }
   ],
   "source": [
    "import numpy as np\n",
    "x = np.array([[3,7],[4,9]])\n",
    "print(\"Original array:\")\n",
    "print(x)\n",
    "print(\"Sum of all elements:\")\n",
    "print(np.sum(x))\n",
    "print(\"Sum of each column:\")\n",
    "print(np.sum(x, axis=0))\n",
    "print(\"Sum of each row:\")\n",
    "print(np.sum(x, axis=1))\n"
   ]
  },
  {
   "cell_type": "raw",
   "metadata": {},
   "source": [
    "Q4: +,-,*,/ arguments element wise?"
   ]
  },
  {
   "cell_type": "code",
   "execution_count": 73,
   "metadata": {},
   "outputs": [
    {
     "name": "stdout",
     "output_type": "stream",
     "text": [
      "[2 5] [3 6]\n",
      "add of elements is:  [ 5 11]\n",
      "\n",
      "\n",
      "[2 5] [3 6]\n",
      "sub of elements is:  [-1 -1]\n",
      "\n",
      "\n",
      "[2 5] [3 6]\n",
      "multiply of elements is:  [ 6 30]\n",
      "\n",
      "\n",
      "[2 5] [3 6]\n",
      "divide of elements is:  [0.66666667 0.83333333]\n"
     ]
    }
   ],
   "source": [
    "import numpy as np\n",
    "x=np.array([2,5])\n",
    "y=np.array([3,6])\n",
    "print(x,y)\n",
    "print(\"add of elements is: \",x+y)\n",
    "print(\"\\n\")\n",
    "print(x,y)\n",
    "print(\"sub of elements is: \",x-y)\n",
    "print(\"\\n\")\n",
    "print(x,y)\n",
    "print(\"multiply of elements is: \",x*y)\n",
    "print(\"\\n\")\n",
    "print(x,y)\n",
    "print(\"divide of elements is: \",x/y)\n"
   ]
  },
  {
   "cell_type": "raw",
   "metadata": {},
   "source": [
    "Q5:Compute Trignometric sin,cosin,tangents of angles in degree?"
   ]
  },
  {
   "cell_type": "code",
   "execution_count": 84,
   "metadata": {},
   "outputs": [
    {
     "name": "stdout",
     "output_type": "stream",
     "text": [
      "pi value is:  3.141592653589793\n",
      "to find degree of trignometric values is:  0.017453292519943295\n",
      "\n",
      "\n",
      "sine: array of angles given in degrees\n",
      "[0.         0.5        0.70710678 0.8660254  1.        ]\n",
      "\n",
      "\n",
      "cosine: array of angles given in degrees\n",
      "[1.00000000e+00 8.66025404e-01 7.07106781e-01 5.00000000e-01\n",
      " 6.12323400e-17]\n",
      "\n",
      "\n",
      "tangent: array of angles given in degrees\n",
      "[0.00000000e+00 5.77350269e-01 1.00000000e+00 1.73205081e+00\n",
      " 1.63312394e+16]\n"
     ]
    }
   ],
   "source": [
    "import numpy as np\n",
    "print(\"pi value is: \",np.pi)\n",
    "print(\"to find degree of trignometric values is: \", np.pi/180)\n",
    "print(\"\\n\")\n",
    "print(\"sine: array of angles given in degrees\")\n",
    "print(np.sin(np.array((0., 30., 45., 60., 90.)) * np.pi / 180.))\n",
    "print(\"\\n\")\n",
    "print(\"cosine: array of angles given in degrees\")\n",
    "print(np.cos(np.array((0., 30., 45., 60., 90.)) * np.pi / 180.))\n",
    "print(\"\\n\")\n",
    "print(\"tangent: array of angles given in degrees\")\n",
    "print(np.tan(np.array((0., 30., 45., 60., 90.)) * np.pi / 180.))"
   ]
  },
  {
   "cell_type": "raw",
   "metadata": {},
   "source": [
    "Q6:pandas prog to create and display a dataframe from a specified dictionary which as index labels?"
   ]
  },
  {
   "cell_type": "code",
   "execution_count": 95,
   "metadata": {},
   "outputs": [
    {
     "name": "stdout",
     "output_type": "stream",
     "text": [
      "            NameofStud  score  attempts qualify\n",
      "a                Revan   24.0         1     yes\n",
      "b                Vinod   29.0         3      no\n",
      "c            Chandrika   26.0         2     yes\n",
      "d              AbhiRam    NaN         4      no\n",
      "e        SiriChandhana    3.0         2      no\n",
      "f  Yashika Pravardhini    1.5         1     yes\n",
      "g               Chabby    0.1         0     yes\n"
     ]
    }
   ],
   "source": [
    "import pandas as panda\n",
    "import numpy as np\n",
    "\n",
    "stud_data  = {'NameofStud': ['Revan', 'Vinod', 'Chandrika', 'AbhiRam', 'SiriChandhana', 'Yashika Pravardhini', 'Chabby'],\n",
    "        'score': [24, 29, 26, np.nan, 3, 1.5, 0.1],\n",
    "        'attempts': [1, 3, 2, 4, 2, 1, 0],\n",
    "        'qualify': ['yes', 'no', 'yes', 'no', 'no', 'yes','yes']}\n",
    "labels = ['a', 'b', 'c', 'd', 'e', 'f', 'g']\n",
    "\n",
    "dataframe = panda.DataFrame(stud_data , index=labels)\n",
    "print(dataframe)"
   ]
  },
  {
   "cell_type": "raw",
   "metadata": {},
   "source": [
    "Q7:Pandas prog to select name and score from the dataframe?"
   ]
  },
  {
   "cell_type": "code",
   "execution_count": 96,
   "metadata": {},
   "outputs": [
    {
     "name": "stdout",
     "output_type": "stream",
     "text": [
      "Selecting the name and score columns from above dataframe : \n",
      "\n",
      "             NameofStud  score\n",
      "a                Revan   24.0\n",
      "b                Vinod   29.0\n",
      "c            Chandrika   26.0\n",
      "d              AbhiRam    NaN\n",
      "e        SiriChandhana    3.0\n",
      "f  Yashika Pravardhini    1.5\n",
      "g               Chabby    0.1\n"
     ]
    }
   ],
   "source": [
    "print(\"Selecting the name and score columns from above dataframe : \\n\\n\",dataframe[['NameofStud','score']])"
   ]
  },
  {
   "cell_type": "raw",
   "metadata": {},
   "source": [
    "Q8:prog to join two given dataframes along rows and assign all data?"
   ]
  },
  {
   "cell_type": "code",
   "execution_count": 97,
   "metadata": {},
   "outputs": [
    {
     "name": "stdout",
     "output_type": "stream",
     "text": [
      "Original DataFrames : \n",
      "\n",
      "\n",
      "  student_id     name  marks\n",
      "0         S1    Revan    200\n",
      "1         S2     Deva    210\n",
      "2         S3    Vinod    190\n",
      "3         S4     Teja    222\n",
      "4         S5  AbhiRam    199\n",
      "-------------------------------------\n",
      "  student_id                 name  marks\n",
      "0         S4            Chandrika    201\n",
      "1         S5  Yashika Pravardhini    200\n",
      "2         S6        Siri Chandana    198\n",
      "3         S7               Chabby    219\n",
      "4         S8             Gayathri    201\n",
      "\n",
      "Join the said two dataframes along rows:\n",
      "  student_id                 name  marks\n",
      "0         S1                Revan    200\n",
      "1         S2                 Deva    210\n",
      "2         S3                Vinod    190\n",
      "3         S4                 Teja    222\n",
      "4         S5              AbhiRam    199\n",
      "0         S4            Chandrika    201\n",
      "1         S5  Yashika Pravardhini    200\n",
      "2         S6        Siri Chandana    198\n",
      "3         S7               Chabby    219\n",
      "4         S8             Gayathri    201\n"
     ]
    }
   ],
   "source": [
    "import pandas as panda\n",
    "\n",
    "cse = panda.DataFrame({\n",
    "        'student_id': ['S1', 'S2', 'S3', 'S4', 'S5'],\n",
    "         'name': ['Revan', 'Deva', 'Vinod', 'Teja', 'AbhiRam'], \n",
    "        'marks': [200, 210, 190, 222, 199]})\n",
    "\n",
    "it= panda.DataFrame({\n",
    "        'student_id': ['S4', 'S5', 'S6', 'S7', 'S8'],\n",
    "        'name': ['Chandrika', 'Yashika Pravardhini', 'Siri Chandana', 'Chabby', 'Gayathri'], \n",
    "        'marks': [201, 200, 198, 219, 201]})\n",
    "\n",
    "print(\"Original DataFrames : \")\n",
    "print(\"\\n\")\n",
    "print(cse)\n",
    "print(\"-------------------------------------\")\n",
    "print(it)\n",
    "print(\"\\nJoin the said two dataframes along rows:\")\n",
    "result_data = panda.concat([cse,it])\n",
    "print(result_data)"
   ]
  },
  {
   "cell_type": "raw",
   "metadata": {},
   "source": [
    "Q9:prog to detect missing values of a given dataframe and display T or F?"
   ]
  },
  {
   "cell_type": "code",
   "execution_count": 106,
   "metadata": {},
   "outputs": [
    {
     "name": "stdout",
     "output_type": "stream",
     "text": [
      "Original DataFrames : \n",
      "\n",
      "\n",
      "  student_id     name  marks\n",
      "0        NaN    Revan  200.0\n",
      "1         S2      NaN  210.0\n",
      "2         S3    vinod    NaN\n",
      "3        NaN     Teja  222.0\n",
      "4         S5  AbhiRam    NaN\n",
      "-------------------------------------\n",
      "  student_id                 name  marks\n",
      "0         S4            Chandrika    NaN\n",
      "1        NaN  Yashika Pravardhini  200.0\n",
      "2         S6        Siri Chandana    NaN\n",
      "3        NaN               Chabby  219.0\n",
      "4        NaN                  NaN  201.0\n",
      "\n",
      "Join the said two dataframes along rows:\n",
      "  student_id                 name  marks\n",
      "0        NaN                Revan  200.0\n",
      "1         S2                  NaN  210.0\n",
      "2         S3                vinod    NaN\n",
      "3        NaN                 Teja  222.0\n",
      "4         S5              AbhiRam    NaN\n",
      "0         S4            Chandrika    NaN\n",
      "1        NaN  Yashika Pravardhini  200.0\n",
      "2         S6        Siri Chandana    NaN\n",
      "3        NaN               Chabby  219.0\n",
      "4        NaN                  NaN  201.0\n",
      "\n",
      "\n",
      "Missed values are : \n",
      "   student_id   name  marks\n",
      "0        True  False  False\n",
      "1       False   True  False\n",
      "2       False  False   True\n",
      "3        True  False  False\n",
      "4       False  False   True\n",
      "0       False  False   True\n",
      "1        True  False  False\n",
      "2       False  False   True\n",
      "3        True  False  False\n",
      "4        True   True  False\n"
     ]
    }
   ],
   "source": [
    "import pandas as panda\n",
    "\n",
    "cse = panda.DataFrame({\n",
    "        'student_id': [np.nan, 'S2', 'S3', np.nan, 'S5'],\n",
    "         'name': ['Revan', np.nan, 'vinod', 'Teja', 'AbhiRam'], \n",
    "        'marks': [200, 210,np.nan, 222,np.nan]})\n",
    "\n",
    "it= panda.DataFrame({\n",
    "        'student_id': ['S4', np.nan,'S6',np.nan,np.nan],\n",
    "        'name': ['Chandrika', 'Yashika Pravardhini', 'Siri Chandana', 'Chabby', np.nan], \n",
    "        'marks': [np.nan, 200,np.nan, 219, 201]})\n",
    "\n",
    "print(\"Original DataFrames : \")\n",
    "print(\"\\n\")\n",
    "print(cse)\n",
    "print(\"-------------------------------------\")\n",
    "print(it)\n",
    "print(\"\\nJoin the said two dataframes along rows:\")\n",
    "result_data = panda.concat([cse,it])\n",
    "dataframes=result_data\n",
    "print(dataframes)\n",
    "print(\"\\n\")\n",
    "print(\"Missed values are : \")\n",
    "print(dataframes.isna())"
   ]
  },
  {
   "cell_type": "raw",
   "metadata": {},
   "source": [
    "Q10: prog to create nd display a one dimensional array-like object containing an array of data?"
   ]
  },
  {
   "cell_type": "code",
   "execution_count": 107,
   "metadata": {},
   "outputs": [
    {
     "name": "stdout",
     "output_type": "stream",
     "text": [
      "0    10\n",
      "1     9\n",
      "2     2\n",
      "3    13\n",
      "4    10\n",
      "dtype: int64\n"
     ]
    }
   ],
   "source": [
    "import pandas as panda\n",
    "disp = panda.Series([10, 9, 2, 13, 10])\n",
    "print(disp)"
   ]
  },
  {
   "cell_type": "code",
   "execution_count": null,
   "metadata": {},
   "outputs": [],
   "source": []
  }
 ],
 "metadata": {
  "kernelspec": {
   "display_name": "Python 3",
   "language": "python",
   "name": "python3"
  },
  "language_info": {
   "codemirror_mode": {
    "name": "ipython",
    "version": 3
   },
   "file_extension": ".py",
   "mimetype": "text/x-python",
   "name": "python",
   "nbconvert_exporter": "python",
   "pygments_lexer": "ipython3",
   "version": "3.8.3"
  }
 },
 "nbformat": 4,
 "nbformat_minor": 4
}

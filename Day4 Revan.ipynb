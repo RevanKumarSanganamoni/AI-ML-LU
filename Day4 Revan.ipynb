{
 "cells": [
  {
   "cell_type": "markdown",
   "metadata": {},
   "source": [
    "# RevanKumar Sanganamoni AI/ML LetsUpgrade"
   ]
  },
  {
   "cell_type": "markdown",
   "metadata": {},
   "source": [
    "__Day 4 Assignment__"
   ]
  },
  {
   "cell_type": "code",
   "execution_count": null,
   "metadata": {},
   "outputs": [],
   "source": []
  },
  {
   "cell_type": "raw",
   "metadata": {},
   "source": [
    "Q1: Reaserch on +,-,*,/,%,// be performed on Complex Numbers?"
   ]
  },
  {
   "cell_type": "code",
   "execution_count": 14,
   "metadata": {
    "scrolled": true
   },
   "outputs": [
    {
     "name": "stdout",
     "output_type": "stream",
     "text": [
      "Add is: (5+8j) \t sub is: (-1+0j) \t multy is: (-10+20j) \t div is: (0.88+0.16j)\n"
     ]
    },
    {
     "ename": "TypeError",
     "evalue": "can't take floor of complex number.",
     "output_type": "error",
     "traceback": [
      "\u001b[1;31m---------------------------------------------------------------------------\u001b[0m",
      "\u001b[1;31mTypeError\u001b[0m                                 Traceback (most recent call last)",
      "\u001b[1;32m<ipython-input-14-2490fbeb7abd>\u001b[0m in \u001b[0;36m<module>\u001b[1;34m\u001b[0m\n\u001b[0;32m      6\u001b[0m \u001b[0mdiv\u001b[0m\u001b[1;33m=\u001b[0m\u001b[0mc1\u001b[0m\u001b[1;33m/\u001b[0m\u001b[0mc2\u001b[0m\u001b[1;33m\u001b[0m\u001b[1;33m\u001b[0m\u001b[0m\n\u001b[0;32m      7\u001b[0m \u001b[0mprint\u001b[0m\u001b[1;33m(\u001b[0m\u001b[1;34m\"Add is:\"\u001b[0m\u001b[1;33m,\u001b[0m\u001b[0mAdd\u001b[0m\u001b[1;33m,\u001b[0m\u001b[1;34m\"\\t\"\u001b[0m\u001b[1;33m,\u001b[0m\u001b[1;34m\"sub is:\"\u001b[0m\u001b[1;33m,\u001b[0m\u001b[0msub\u001b[0m\u001b[1;33m,\u001b[0m\u001b[1;34m\"\\t\"\u001b[0m\u001b[1;33m,\u001b[0m\u001b[1;34m\"multy is:\"\u001b[0m\u001b[1;33m,\u001b[0m\u001b[0mmulty\u001b[0m\u001b[1;33m,\u001b[0m\u001b[1;34m\"\\t\"\u001b[0m\u001b[1;33m,\u001b[0m\u001b[1;34m\"div is:\"\u001b[0m\u001b[1;33m,\u001b[0m\u001b[0mdiv\u001b[0m\u001b[1;33m)\u001b[0m\u001b[1;33m\u001b[0m\u001b[1;33m\u001b[0m\u001b[0m\n\u001b[1;32m----> 8\u001b[1;33m \u001b[0mfDiv\u001b[0m\u001b[1;33m=\u001b[0m\u001b[0mc1\u001b[0m\u001b[1;33m//\u001b[0m\u001b[0mc2\u001b[0m\u001b[1;33m\u001b[0m\u001b[1;33m\u001b[0m\u001b[0m\n\u001b[0m\u001b[0;32m      9\u001b[0m \u001b[0mprint\u001b[0m\u001b[1;33m(\u001b[0m\u001b[1;34m\"fdiv is:\"\u001b[0m\u001b[1;33m,\u001b[0m\u001b[0mfDiv\u001b[0m\u001b[1;33m)\u001b[0m\u001b[1;33m\u001b[0m\u001b[1;33m\u001b[0m\u001b[0m\n\u001b[0;32m     10\u001b[0m \u001b[0mmodulo\u001b[0m\u001b[1;33m=\u001b[0m\u001b[0mc1\u001b[0m\u001b[1;33m//\u001b[0m\u001b[0mc2\u001b[0m\u001b[1;33m\u001b[0m\u001b[1;33m\u001b[0m\u001b[0m\n",
      "\u001b[1;31mTypeError\u001b[0m: can't take floor of complex number."
     ]
    }
   ],
   "source": [
    "c1=2+4j\n",
    "c2=3+4j\n",
    "Add=c1+c2\n",
    "sub=c1-c2\n",
    "multy=c1*c2\n",
    "div=c1/c2\n",
    "print(\"Add is:\",Add,\"\\t\",\"sub is:\",sub,\"\\t\",\"multy is:\",multy,\"\\t\",\"div is:\",div)\n",
    "fDiv=c1//c2\n",
    "print(\"fdiv is:\",fDiv)\n",
    "modulo=c1//c2\n",
    "print(\"M is:\",modulo)"
   ]
  },
  {
   "cell_type": "markdown",
   "metadata": {},
   "source": [
    "Hereby Addition , Substraction , Multy , Division , Modulo ,Floor division Operations are perfomed.\n",
    "where Madulo and Floor Division are not working on Complex Numbers.\n",
    "Respective Error also Mentioned above."
   ]
  },
  {
   "cell_type": "markdown",
   "metadata": {},
   "source": [
    "."
   ]
  },
  {
   "cell_type": "markdown",
   "metadata": {},
   "source": [
    "Q2: Reaserch on Range() and Parameters? "
   ]
  },
  {
   "cell_type": "code",
   "execution_count": 11,
   "metadata": {},
   "outputs": [
    {
     "name": "stdout",
     "output_type": "stream",
     "text": [
      "5\n",
      "7\n",
      "9\n",
      "11\n",
      "13\n",
      "15\n",
      "17\n",
      "19\n"
     ]
    }
   ],
   "source": [
    "x = range(5,20,2)\n",
    "for n in x:\n",
    "    print(n)"
   ]
  },
  {
   "cell_type": "markdown",
   "metadata": {},
   "source": [
    "range() is to return the sequence of numbers of given parameters by the Programer\n",
    "there are 3 parameters likely Start,Stop,Step\n",
    "start =to begin the list\n",
    "stop = to stop the list at specified\n",
    "step = to begin from start then takes step(mentioned volume skips in the list) and continues to the stop parameter"
   ]
  },
  {
   "cell_type": "markdown",
   "metadata": {},
   "source": [
    "."
   ]
  },
  {
   "cell_type": "raw",
   "metadata": {},
   "source": [
    "Q3: consider two numbers,perform substraction and if result is greater than 25 do multiply else do div?"
   ]
  },
  {
   "cell_type": "code",
   "execution_count": 6,
   "metadata": {},
   "outputs": [
    {
     "name": "stdout",
     "output_type": "stream",
     "text": [
      "enter value of a:20\n",
      "enter value of b:30\n",
      "Substracted value is: -10.0\n",
      "substracted value is lesser than 25\n",
      "div value is: 0.6666666666666666\n"
     ]
    }
   ],
   "source": [
    "a=float(input(\"enter value of a:\"))\n",
    "b=float(input(\"enter value of b:\"))\n",
    "sub=a-b\n",
    "print(\"Substracted value is:\",sub)\n",
    "if sub > 25:\n",
    "    print(\"Substracted value is Greater than 25\")\n",
    "    Mul=a*b\n",
    "    print(\"Mul value is:\",Mul)\n",
    "else:\n",
    "    print(\"substracted value is lesser than 25\")\n",
    "    Div=a/b\n",
    "    print(\"div value is:\",Div)"
   ]
  },
  {
   "cell_type": "markdown",
   "metadata": {},
   "source": [
    "here,Substraction value is lesser than 25 \n",
    "so,If block is an False and it tends to execute Else block  and Divided"
   ]
  },
  {
   "cell_type": "code",
   "execution_count": 5,
   "metadata": {},
   "outputs": [
    {
     "name": "stdout",
     "output_type": "stream",
     "text": [
      "enter value of a:50\n",
      "enter value of b:20\n",
      "Substracted value is: 30.0\n",
      "Substracted value is Greater than 25\n",
      "Mul value is: 1000.0\n"
     ]
    }
   ],
   "source": [
    "a=float(input(\"enter value of a:\"))\n",
    "b=float(input(\"enter value of b:\"))\n",
    "sub=a-b\n",
    "print(\"Substracted value is:\",sub)\n",
    "if sub > 25:\n",
    "    print(\"Substracted value is Greater than 25\")\n",
    "    Mul=a*b\n",
    "    print(\"Mul value is:\",Mul)\n",
    "else:\n",
    "    print(\"substracted value is lesser than 25\")\n",
    "    Div=a/b\n",
    "    print(\"div value is:\",Div)"
   ]
  },
  {
   "cell_type": "markdown",
   "metadata": {},
   "source": [
    "here,Substraction value is Greater than 25 \n",
    "so,If block is an True and it tends to execute If block  and Multiplied "
   ]
  },
  {
   "cell_type": "markdown",
   "metadata": {},
   "source": [
    "."
   ]
  },
  {
   "cell_type": "raw",
   "metadata": {},
   "source": [
    "Q4: Consider a list of 10 integer's,If the Number is Divisible by 2?Print the Result as \"Square of that number minus 2\"((Res**2)-2) ?"
   ]
  },
  {
   "cell_type": "code",
   "execution_count": 40,
   "metadata": {
    "scrolled": true
   },
   "outputs": [
    {
     "name": "stdout",
     "output_type": "stream",
     "text": [
      "The integer in list is divisible by 2 is: 2 \n",
      "The resulted square of that divisible minus 2 is: 2\n",
      "\n",
      "The integer in list is divisible by 2 is: 4 \n",
      "The resulted square of that divisible minus 2 is: 14\n",
      "\n",
      "The integer in list is not divisible by 2 is: 5\n",
      "\n",
      "The integer in list is not divisible by 2 is: 83\n",
      "\n",
      "The integer in list is divisible by 2 is: 8 \n",
      "The resulted square of that divisible minus 2 is: 62\n",
      "\n",
      "The integer in list is not divisible by 2 is: 9\n",
      "\n",
      "The integer in list is divisible by 2 is: 12 \n",
      "The resulted square of that divisible minus 2 is: 142\n",
      "\n",
      "The integer in list is not divisible by 2 is: 13\n",
      "\n",
      "The integer in list is divisible by 2 is: 68 \n",
      "The resulted square of that divisible minus 2 is: 4622\n",
      "\n",
      "The integer in list is divisible by 2 is: 24 \n",
      "The resulted square of that divisible minus 2 is: 574\n",
      "\n"
     ]
    }
   ],
   "source": [
    "l =[2,4,5,83,8,9,12,13,68,24]\n",
    "for i in l:\n",
    "    if i%2==0:\n",
    "        print(\"The integer in list is divisible by 2 is:\",i,end=\" \\n\")\n",
    "        i=(i**2)-2\n",
    "        print(\"The resulted square of that divisible minus 2 is:\",i,end=\"\\n\\n\") \n",
    "    \n",
    "    else:\n",
    "        print(\"The integer in list is not divisible by 2 is:\",i,end=\"\\n\\n\")\n",
    "\n"
   ]
  },
  {
   "cell_type": "markdown",
   "metadata": {},
   "source": [
    "."
   ]
  },
  {
   "cell_type": "raw",
   "metadata": {},
   "source": [
    "Q5:consider a list of 10 integers?print which are greater than 7 when that number divided by 2?"
   ]
  },
  {
   "cell_type": "code",
   "execution_count": 66,
   "metadata": {},
   "outputs": [
    {
     "name": "stdout",
     "output_type": "stream",
     "text": [
      "the value divided by 2 is lessthan 7: 5\n",
      "\n",
      "the value divided by 2 is greater than 7: 16\n",
      "the value of i/2 is: 8.0\n",
      "\n",
      "the value divided by 2 is greater than 7: 14\n",
      "the value of i/2 is: 7.0\n",
      "\n",
      "the value divided by 2 is greater than 7: 98\n",
      "the value of i/2 is: 49.0\n",
      "\n",
      "the value divided by 2 is greater than 7: 28\n",
      "the value of i/2 is: 14.0\n",
      "\n",
      "the value divided by 2 is lessthan 7: 3\n",
      "\n",
      "the value divided by 2 is greater than 7: 77\n",
      "the value of i/2 is: 38.5\n",
      "\n",
      "the value divided by 2 is lessthan 7: 7\n",
      "\n",
      "the value divided by 2 is greater than 7: 123\n",
      "the value of i/2 is: 61.5\n",
      "\n"
     ]
    }
   ],
   "source": [
    "l=[5,16,14,98,28,3,77,7,123]\n",
    "for i in l:\n",
    "    if i/2>=7:\n",
    "        print(\"the value divided by 2 is greater than 7:\",i)\n",
    "        i=i/2\n",
    "        print(\"the value of i/2 is:\",  i,end=\"\\n\\n\")\n",
    "    else:\n",
    "        print(\"the value divided by 2 is lessthan 7:\",i,end=\"\\n\\n\")"
   ]
  },
  {
   "cell_type": "markdown",
   "metadata": {},
   "source": [
    "."
   ]
  },
  {
   "cell_type": "code",
   "execution_count": null,
   "metadata": {},
   "outputs": [],
   "source": []
  }
 ],
 "metadata": {
  "kernelspec": {
   "display_name": "Python 3",
   "language": "python",
   "name": "python3"
  },
  "language_info": {
   "codemirror_mode": {
    "name": "ipython",
    "version": 3
   },
   "file_extension": ".py",
   "mimetype": "text/x-python",
   "name": "python",
   "nbconvert_exporter": "python",
   "pygments_lexer": "ipython3",
   "version": "3.8.3"
  }
 },
 "nbformat": 4,
 "nbformat_minor": 4
}

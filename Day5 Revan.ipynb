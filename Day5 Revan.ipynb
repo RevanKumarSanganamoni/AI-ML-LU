{
 "cells": [
  {
   "cell_type": "markdown",
   "metadata": {},
   "source": [
    "___REVANKUMAR SANGANAMONI AIML___"
   ]
  },
  {
   "cell_type": "markdown",
   "metadata": {},
   "source": [
    "Day5 Assignament"
   ]
  },
  {
   "cell_type": "code",
   "execution_count": null,
   "metadata": {},
   "outputs": [],
   "source": [
    "Q1: to find first 20 non even prime natural numbers?"
   ]
  },
  {
   "cell_type": "code",
   "execution_count": 7,
   "metadata": {},
   "outputs": [
    {
     "name": "stdout",
     "output_type": "stream",
     "text": [
      " Please Enter the Maximum Value : 20\n",
      "1\n",
      "3\n",
      "5\n",
      "7\n",
      "9\n",
      "11\n",
      "13\n",
      "15\n",
      "17\n",
      "19\n",
      "1 2 3 4 5 6 7 8 9 10 11 12 13 14 15 16 17 18 19 20 "
     ]
    }
   ],
   "source": [
    "value=range(1,100,1)\n",
    "maximum = int(input(\" Please Enter the Maximum Value : \"))\n",
    "\n",
    "for number in range(1, maximum+1):\n",
    "    if(number % 2 != 0):\n",
    "        print(\"{0}\".format(number))\n",
    "       \n",
    "for i in value:\n",
    "    while i in range(1,maximum+1):   \n",
    "        print(i,end=' ')\n",
    "        i=i+1  \n",
    "        break"
   ]
  },
  {
   "cell_type": "raw",
   "metadata": {},
   "source": []
  },
  {
   "cell_type": "raw",
   "metadata": {},
   "source": [
    "Q2: To Implement 15 Functions of string?"
   ]
  },
  {
   "cell_type": "code",
   "execution_count": 35,
   "metadata": {},
   "outputs": [
    {
     "name": "stdout",
     "output_type": "stream",
     "text": [
      "revan Kumar india\n",
      "string is not end with com: revan Kumar india\n",
      "TO REPLACE : vinod\n",
      "string replced with :  vinod\n",
      "splited string is: ['revan', 'Kumar', 'india']\n",
      "The string is: Revan Kumar India\n",
      "swapped string is :  revan Kumar india\n"
     ]
    }
   ],
   "source": [
    "string=input()\n",
    "if string==string :\n",
    "    if string.isalpha():\n",
    "        print(\"alphabet\",string)\n",
    "    elif string.isdigit():\n",
    "        print(\"is digit\",string)\n",
    "    elif string.isspace():\n",
    "        print(\"spaces\")\n",
    "    elif string.isalnum():\n",
    "        print(str(string),\"alphanumeric\")\n",
    "        if string.isupper():\n",
    "            print(string,\"is upper case\")\n",
    "            print(string.lower(),\"converted to lowercase:   \")\n",
    "        elif string.islower():\n",
    "            print(string,\"is lower case\")\n",
    "            print(string.upper(),\"converted to upper case:  \")\n",
    "    if string.endswith('com'):\n",
    "        Special_Chars=['@',':','!',':',';','\"','&','#','$','%','.',',','/','>','<','?']\n",
    "        string=''.join(i for i in string if not i in Special_Chars)\n",
    "        print(\"string ends with com:\",str(string))\n",
    "    else:\n",
    "        print(\"string is not end with com:\",str(string))\n",
    "    if string==string :\n",
    "        ToReplace=input(\"TO REPLACE : \")\n",
    "        print(\"string replced with : \",string.replace(string,ToReplace))\n",
    "    else:\n",
    "        print(\"string not replaced \")\n",
    "    if string.split():\n",
    "        print(\"splited string is:\",string.split())\n",
    "    if string.title(): \n",
    "        print(\"The titled string is:\",string.title())\n",
    "    if string.swapcase():\n",
    "        print(\"swapped string is : \",string)\n",
    "    \n",
    "\n",
    "else:\n",
    "    print(\"its not a string\")"
   ]
  },
  {
   "cell_type": "raw",
   "metadata": {},
   "source": [
    "here,i tried 15 functions of string"
   ]
  },
  {
   "cell_type": "markdown",
   "metadata": {},
   "source": [
    "."
   ]
  },
  {
   "cell_type": "raw",
   "metadata": {},
   "source": [
    "Q3: To check given string is Palindrome or Anagram or None,Display message according to the user?"
   ]
  },
  {
   "cell_type": "code",
   "execution_count": 24,
   "metadata": {},
   "outputs": [
    {
     "name": "stdout",
     "output_type": "stream",
     "text": [
      "Give the string1:  listen\n",
      "To check Anagram:  silent\n",
      "Strings are not Palindrome but Anagram\n"
     ]
    }
   ],
   "source": [
    "String1=input(\"Give the string1:  \")\n",
    "String2=input(\"To check Anagram:  \")\n",
    "if(String1==String1[::-1] and String2==String2[::-1] and sorted(String1)==sorted(String2)) : \n",
    "    print(\"Strings are Palindrome and Anagram\")\n",
    "elif(sorted(String1)==sorted(String2)):\n",
    "    print(\"Strings are not Palindrome but Anagram\")\n",
    "else:\n",
    "    print(\"None of the Above\")"
   ]
  },
  {
   "cell_type": "raw",
   "metadata": {},
   "source": [
    "Here, Palindrome meant,if a string get same string...if we revert it \n",
    "NOTE ::  [::-1] meant the slice/range operatin to use [start:stop:skip] in the string\n",
    "Anagram meant,the string which have same chars with naming different like...listen,silent\n",
    "NOTE ::  uses sorted()\n"
   ]
  },
  {
   "cell_type": "markdown",
   "metadata": {},
   "source": [
    "."
   ]
  },
  {
   "cell_type": "raw",
   "metadata": {},
   "source": [
    "Q4: Remove Special Characters From Given String and Convert the string to Lowercase?"
   ]
  },
  {
   "cell_type": "code",
   "execution_count": 6,
   "metadata": {},
   "outputs": [
    {
     "name": "stdout",
     "output_type": "stream",
     "text": [
      "Give a String to Test is:   RevanKumar2@Gmail.COm\n",
      "The Given String by the User is:   RevanKumar2@Gmail.COm\n",
      "The Resulted Removed Special_chars string is:    RevanKumar2GmailCOm\n",
      "The Resulted Lower Case string is:    revankumar2gmailcom\n"
     ]
    }
   ],
   "source": [
    "Special_Chars=['@',':','!',':',';','\"','&','#','$','%','.',',','/','>','<','?']\n",
    "ToTest=input(\"Give a String to Test is:   \"  )\n",
    "print(\"The Given String by the User is:  \",ToTest)\n",
    "ToTest=''.join(i for i in ToTest if not i in Special_Chars)\n",
    "#for i in Special_Chars:\n",
    "#ToTest=ToTest.replace(i,'')\n",
    "print(\"The Resulted Removed Special_chars string is:   \",str(ToTest))\n",
    "print(\"The Resulted Lower Case string is:   \",ToTest.lower())  \n"
   ]
  },
  {
   "cell_type": "raw",
   "metadata": {},
   "source": [
    "NOTE :: here,i tried with replace() but it printed all checked strings...\n",
    "Many other functions for removing special chars are filter(), join(), translate()...\n",
    "To Convert string islower(),lower(),upper(),isupper()"
   ]
  },
  {
   "cell_type": "code",
   "execution_count": null,
   "metadata": {},
   "outputs": [],
   "source": []
  }
 ],
 "metadata": {
  "kernelspec": {
   "display_name": "Python 3",
   "language": "python",
   "name": "python3"
  },
  "language_info": {
   "codemirror_mode": {
    "name": "ipython",
    "version": 3
   },
   "file_extension": ".py",
   "mimetype": "text/x-python",
   "name": "python",
   "nbconvert_exporter": "python",
   "pygments_lexer": "ipython3",
   "version": "3.8.3"
  }
 },
 "nbformat": 4,
 "nbformat_minor": 4
}

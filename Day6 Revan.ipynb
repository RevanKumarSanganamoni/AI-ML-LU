{
 "cells": [
  {
   "cell_type": "markdown",
   "metadata": {},
   "source": [
    "# RevanKumar Sanganamoni AIML LETSUPGRADE"
   ]
  },
  {
   "cell_type": "markdown",
   "metadata": {},
   "source": [
    "__Day 6 Assignment__"
   ]
  },
  {
   "cell_type": "raw",
   "metadata": {},
   "source": [
    "Q1: "
   ]
  },
  {
   "cell_type": "code",
   "execution_count": 6,
   "metadata": {},
   "outputs": [
    {
     "name": "stdout",
     "output_type": "stream",
     "text": [
      "Enter an Email_Id : revankumar2@gmail.com\n",
      "The given Email_Id is : revankumar2@gmail.com\n",
      "gmail\n"
     ]
    }
   ],
   "source": [
    "email=input(\"Enter an Email_Id : \")\n",
    "print(\"The given Email_Id is :\",email)\n",
    "Org_name=email[email.index('@')+1:+email.index('.')]\n",
    "print(Org_name)"
   ]
  },
  {
   "cell_type": "markdown",
   "metadata": {},
   "source": [
    "here,we used slicing technique and indexing the List\n",
    "\n",
    "note : if we provide in the place 1 with 0,then index starts the str from @"
   ]
  },
  {
   "cell_type": "markdown",
   "metadata": {},
   "source": [
    "."
   ]
  },
  {
   "cell_type": "raw",
   "metadata": {},
   "source": [
    "Q2:"
   ]
  },
  {
   "cell_type": "code",
   "execution_count": 17,
   "metadata": {},
   "outputs": [
    {
     "name": "stdout",
     "output_type": "stream",
     "text": [
      "give the comma seperated sequence of data : revankumar,is,a,good boy\n",
      "The sorted string in alphabetic order is:  a,good boy,is,revankumar\n",
      "The sorted string in alphabetic order is:  a good boy is revankumar\n"
     ]
    }
   ],
   "source": [
    "given =input(\"give the comma seperated sequence of data : \")\n",
    "word=[word for word in given.split(\",\")]\n",
    "print(\"The sorted string in alphabetic order is: \",\",\".join(sorted(list(set(word)))))\n",
    "print(\"The sorted string in alphabetic order is: \",\" \".join(sorted(list(set(word)))))"
   ]
  },
  {
   "cell_type": "raw",
   "metadata": {},
   "source": [
    "here, comma seperated string is sorted into a order with comma   and  with space to get clarity"
   ]
  },
  {
   "cell_type": "markdown",
   "metadata": {},
   "source": [
    "."
   ]
  },
  {
   "cell_type": "raw",
   "metadata": {},
   "source": [
    "Q3: Create NoteBook for sets.see the github link below!!"
   ]
  },
  {
   "cell_type": "markdown",
   "metadata": {},
   "source": [
    "https://github.com/RevanKumarSanganamoni/AI-ML-LU/blob/master/revan%20python%20set's.ipynb"
   ]
  },
  {
   "cell_type": "markdown",
   "metadata": {},
   "source": [
    "."
   ]
  },
  {
   "cell_type": "raw",
   "metadata": {},
   "source": [
    "Q4: "
   ]
  },
  {
   "cell_type": "code",
   "execution_count": 4,
   "metadata": {},
   "outputs": [
    {
     "name": "stdout",
     "output_type": "stream",
     "text": [
      "[6, 8, 10]\n"
     ]
    }
   ],
   "source": [
    "def missing(lst):\n",
    "    return[x for x in range(1,10+1) if x not in lst]\n",
    "lst=[1,4,2,7,5,9,3]\n",
    "print(missing(lst))"
   ]
  },
  {
   "cell_type": "markdown",
   "metadata": {},
   "source": [
    "."
   ]
  },
  {
   "cell_type": "raw",
   "metadata": {},
   "source": [
    "Q5:"
   ]
  },
  {
   "cell_type": "code",
   "execution_count": 5,
   "metadata": {},
   "outputs": [
    {
     "name": "stdout",
     "output_type": "stream",
     "text": [
      "Enter a list elements separated by space 128463205476502734509167354422\n",
      "user list is  ['128463205476502734509167354422']\n",
      "The list after removing duplicates : ['1', '2', '8', '4', '6', '3', '0', '5', '7', '9']\n"
     ]
    }
   ],
   "source": [
    "lst1 = input(\"Enter a list elements separated by space \")\n",
    "List = lst1.split(\" \")\n",
    "print(\"user list is \", List)\n",
    "result = [] \n",
    "[ result.append(i) for i in lst1 if i not in result]\n",
    "print (\"The list after removing duplicates : \" + str(result)) \n",
    "\n"
   ]
  },
  {
   "cell_type": "markdown",
   "metadata": {},
   "source": [
    "."
   ]
  },
  {
   "cell_type": "code",
   "execution_count": null,
   "metadata": {},
   "outputs": [],
   "source": []
  }
 ],
 "metadata": {
  "kernelspec": {
   "display_name": "Python 3",
   "language": "python",
   "name": "python3"
  },
  "language_info": {
   "codemirror_mode": {
    "name": "ipython",
    "version": 3
   },
   "file_extension": ".py",
   "mimetype": "text/x-python",
   "name": "python",
   "nbconvert_exporter": "python",
   "pygments_lexer": "ipython3",
   "version": "3.8.3"
  }
 },
 "nbformat": 4,
 "nbformat_minor": 4
}

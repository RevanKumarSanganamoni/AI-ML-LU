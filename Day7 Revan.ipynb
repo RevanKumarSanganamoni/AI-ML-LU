{
 "cells": [
  {
   "cell_type": "markdown",
   "metadata": {},
   "source": [
    "# Revan Kumar Sanganamoni AIML LetsUpgrade"
   ]
  },
  {
   "cell_type": "markdown",
   "metadata": {},
   "source": [
    "__Day7 Assignment__"
   ]
  },
  {
   "cell_type": "raw",
   "metadata": {},
   "source": [
    "Q1:copy the content using for loop"
   ]
  },
  {
   "cell_type": "code",
   "execution_count": 22,
   "metadata": {},
   "outputs": [
    {
     "name": "stdout",
     "output_type": "stream",
     "text": [
      "rev file as : \t\t  hey, Hai bro!!\n",
      " I'm trying code for file operation's.\n",
      "\n",
      "revan kumar sanganamoni\n",
      "\n",
      "\n",
      "vin file before copying as :\t\t  vinod kumar's file\n",
      "\n",
      "\n",
      "\n",
      "vin file after copying as : \t\t hey, Hai bro!!\n",
      " I'm trying code for file operation's.\n",
      "\n",
      "revan kumar sanganamoni\n"
     ]
    }
   ],
   "source": [
    "with open(\"rev.txt\") as f:\n",
    "    f_contents=f.read()\n",
    "    print(\"rev file as : \\t\\t \",f_contents,)\n",
    "    print(\"\\n\")\n",
    "\n",
    "with open(\"vin.txt\") as f1:\n",
    "    f1_contents=f1.read()\n",
    "    print(\"vin file before copying as :\\t\\t \",f1_contents)\n",
    "        \n",
    "    print(\"\\n\\n\")\n",
    "\n",
    "#copying using for loop\n",
    "\n",
    "with open('rev.txt','r') as f:\n",
    "    with open('vin.txt','w') as f2:\n",
    "        for line in f:\n",
    "            f2.write(line)\n",
    "\n",
    "with open(\"vin.txt\") as f2:\n",
    "    f2_contents=f2.read()\n",
    "    print(\"vin file after copying as : \\t\\t\",f2_contents)\n"
   ]
  },
  {
   "cell_type": "markdown",
   "metadata": {},
   "source": [
    "."
   ]
  },
  {
   "cell_type": "raw",
   "metadata": {},
   "source": [
    "Q2: Minimum and Maximum in dictionary without builtin functions?"
   ]
  },
  {
   "cell_type": "code",
   "execution_count": 18,
   "metadata": {},
   "outputs": [
    {
     "name": "stdout",
     "output_type": "stream",
     "text": [
      "The original dictionary is : {'Revan': 5, 'is': 2, 'a': 1, 'good': 4, 'boy': 3, '!': 1}\n",
      "Keys with minimum values are : ['a', '!']\n",
      "Keys with maximum values are : ['Revan']\n"
     ]
    }
   ],
   "source": [
    "test_dict = {'Revan':5,'is':2,'a':1,'good' : 4,'boy' : 3,'!':1} \n",
    "  \n",
    "print(\"The original dictionary is : \" + str(test_dict)) \n",
    "  \n",
    "mini = [key for key in test_dict if \n",
    "        all(test_dict[temp] >= test_dict[key] \n",
    "        for temp in test_dict)]  \n",
    "print(\"Keys with minimum values are : \" + str(mini))\n",
    "maxi = [key for key in test_dict if \n",
    "        all(test_dict[temp] <= test_dict[key] \n",
    "        for temp in test_dict)]  \n",
    "print(\"Keys with maximum values are : \" + str(maxi))"
   ]
  },
  {
   "cell_type": "code",
   "execution_count": null,
   "metadata": {},
   "outputs": [],
   "source": []
  }
 ],
 "metadata": {
  "kernelspec": {
   "display_name": "Python 3",
   "language": "python",
   "name": "python3"
  },
  "language_info": {
   "codemirror_mode": {
    "name": "ipython",
    "version": 3
   },
   "file_extension": ".py",
   "mimetype": "text/x-python",
   "name": "python",
   "nbconvert_exporter": "python",
   "pygments_lexer": "ipython3",
   "version": "3.8.3"
  }
 },
 "nbformat": 4,
 "nbformat_minor": 4
}

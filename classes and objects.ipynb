{
 "cells": [
  {
   "cell_type": "markdown",
   "metadata": {},
   "source": [
    "# Classes and Objects "
   ]
  },
  {
   "cell_type": "markdown",
   "metadata": {},
   "source": [
    "__by RevanKumar Sanganamoni__"
   ]
  },
  {
   "cell_type": "raw",
   "metadata": {},
   "source": []
  },
  {
   "cell_type": "markdown",
   "metadata": {},
   "source": [
    "Creating Class and Object:"
   ]
  },
  {
   "cell_type": "code",
   "execution_count": 7,
   "metadata": {},
   "outputs": [
    {
     "name": "stdout",
     "output_type": "stream",
     "text": [
      "enter a emp_nameRevan\n",
      "enter emp_age25\n",
      "Revan 25\n",
      "<class '__main__.Employee'>\n"
     ]
    }
   ],
   "source": [
    "class Employee:\n",
    "    name = input(\"enter a emp_name\")\n",
    "    age = input(\"enter emp_age\")\n",
    " \n",
    " \n",
    "emp = Employee()\n",
    "print(emp.name, emp.age)\n",
    "print(type(emp))  "
   ]
  },
  {
   "cell_type": "code",
   "execution_count": 4,
   "metadata": {},
   "outputs": [
    {
     "name": "stdout",
     "output_type": "stream",
     "text": [
      "LU\n",
      "<bound method rev.study of <__main__.rev object at 0x0000020C09E85730>>\n",
      "Revan Learns python\n"
     ]
    }
   ],
   "source": [
    "class rev:     #class creation\n",
    "    \"hey! revan do u learn python\"\n",
    "    learn=\"LU\"\n",
    "    \n",
    "    def study(self):\n",
    "        print(\"Revan Learns python\")\n",
    "student=rev()    #object creation\n",
    "print(rev.learn)   #call class\n",
    "print(student.study)    #call by object\n",
    "student.study()"
   ]
  },
  {
   "cell_type": "markdown",
   "metadata": {},
   "source": [
    "__Constructors__"
   ]
  },
  {
   "cell_type": "code",
   "execution_count": 11,
   "metadata": {},
   "outputs": [
    {
     "name": "stdout",
     "output_type": "stream",
     "text": [
      "enter emp namerevan\n",
      "enter emp age25\n",
      "revan 25\n"
     ]
    }
   ],
   "source": [
    "class Employee:\n",
    "    def __init__(self, name, age):\n",
    "        self.name =input(\"enter emp name\")\n",
    "        self.age = input(\"enter emp age\")\n",
    " \n",
    " \n",
    "emp = Employee(\"\",3)\n",
    "print(emp.name, emp.age)"
   ]
  },
  {
   "cell_type": "code",
   "execution_count": 5,
   "metadata": {},
   "outputs": [
    {
     "name": "stdout",
     "output_type": "stream",
     "text": [
      "2+3j\n",
      "(5, 0, 10)\n"
     ]
    },
    {
     "ename": "AttributeError",
     "evalue": "'ComplexNumber' object has no attribute 'attr'",
     "output_type": "error",
     "traceback": [
      "\u001b[1;31m---------------------------------------------------------------------------\u001b[0m",
      "\u001b[1;31mAttributeError\u001b[0m                            Traceback (most recent call last)",
      "\u001b[1;32m<ipython-input-5-1288f73be4b5>\u001b[0m in \u001b[0;36m<module>\u001b[1;34m\u001b[0m\n\u001b[0;32m     13\u001b[0m \u001b[0mprint\u001b[0m\u001b[1;33m(\u001b[0m\u001b[1;33m(\u001b[0m\u001b[0mnum2\u001b[0m\u001b[1;33m.\u001b[0m\u001b[0mreal\u001b[0m\u001b[1;33m,\u001b[0m \u001b[0mnum2\u001b[0m\u001b[1;33m.\u001b[0m\u001b[0mimag\u001b[0m\u001b[1;33m,\u001b[0m \u001b[0mnum2\u001b[0m\u001b[1;33m.\u001b[0m\u001b[0mattr\u001b[0m\u001b[1;33m)\u001b[0m\u001b[1;33m)\u001b[0m\u001b[1;33m\u001b[0m\u001b[1;33m\u001b[0m\u001b[0m\n\u001b[0;32m     14\u001b[0m \u001b[1;33m\u001b[0m\u001b[0m\n\u001b[1;32m---> 15\u001b[1;33m \u001b[0mprint\u001b[0m\u001b[1;33m(\u001b[0m\u001b[0mnum1\u001b[0m\u001b[1;33m.\u001b[0m\u001b[0mattr\u001b[0m\u001b[1;33m)\u001b[0m\u001b[1;33m\u001b[0m\u001b[1;33m\u001b[0m\u001b[0m\n\u001b[0m",
      "\u001b[1;31mAttributeError\u001b[0m: 'ComplexNumber' object has no attribute 'attr'"
     ]
    }
   ],
   "source": [
    "class ComplexNumber:\n",
    "    def __init__(self, r=0, i=0):\n",
    "        self.real = r\n",
    "        self.imag = i\n",
    "\n",
    "    def get_data(self):\n",
    "        print(f'{self.real}+{self.imag}j')\n",
    "\n",
    "num1 = ComplexNumber(2, 3)\n",
    "num1.get_data()\n",
    "num2 = ComplexNumber(5)\n",
    "num2.attr = 10\n",
    "print((num2.real, num2.imag, num2.attr))\n",
    "\n",
    "print(num1.attr)"
   ]
  },
  {
   "cell_type": "code",
   "execution_count": 6,
   "metadata": {},
   "outputs": [
    {
     "name": "stdout",
     "output_type": "stream",
     "text": [
      "Hello my name is revan\n"
     ]
    }
   ],
   "source": [
    "class Person:\n",
    "  def __init__(self, name, age):\n",
    "    self.name = name\n",
    "    self.age = age\n",
    "\n",
    "  def myfunc(self):\n",
    "    print(\"Hello my name is \" + self.name)\n",
    "\n",
    "p1 = Person(\"revan\", 36)\n",
    "p1.myfunc()\n"
   ]
  },
  {
   "cell_type": "markdown",
   "metadata": {},
   "source": [
    "__Deleting__"
   ]
  },
  {
   "cell_type": "code",
   "execution_count": 12,
   "metadata": {},
   "outputs": [],
   "source": [
    "class Employee:\n",
    "    def __init__(self, name, age):\n",
    "        self.name = name\n",
    "        self.age = age\n",
    " \n",
    " \n",
    "emp1 = Employee(\"rev\", 25)\n",
    "emp2 = Employee(\"vin\", 28)\n",
    " \n",
    "del emp1.name  \n",
    "del emp2  "
   ]
  },
  {
   "cell_type": "markdown",
   "metadata": {},
   "source": [
    "__empty the class__ : pass keyword used"
   ]
  },
  {
   "cell_type": "code",
   "execution_count": 13,
   "metadata": {},
   "outputs": [],
   "source": [
    "class PermanentEmployee:\n",
    "    pass\n",
    " \n",
    " \n",
    "emp = PermanentEmployee()\n",
    "emp.name = \"revan\"\n",
    "emp.age = 25"
   ]
  },
  {
   "cell_type": "code",
   "execution_count": null,
   "metadata": {},
   "outputs": [],
   "source": []
  }
 ],
 "metadata": {
  "kernelspec": {
   "display_name": "Python 3",
   "language": "python",
   "name": "python3"
  },
  "language_info": {
   "codemirror_mode": {
    "name": "ipython",
    "version": 3
   },
   "file_extension": ".py",
   "mimetype": "text/x-python",
   "name": "python",
   "nbconvert_exporter": "python",
   "pygments_lexer": "ipython3",
   "version": "3.8.3"
  }
 },
 "nbformat": 4,
 "nbformat_minor": 4
}

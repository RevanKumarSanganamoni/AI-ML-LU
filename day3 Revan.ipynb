{
 "cells": [
  {
   "cell_type": "markdown",
   "metadata": {},
   "source": [
    "\n",
    "# RevanKumar Sanganamoni  AI/ML LetsUpgrade"
   ]
  },
  {
   "cell_type": "markdown",
   "metadata": {},
   "source": [
    "__Day 3 Assignment__"
   ]
  },
  {
   "cell_type": "raw",
   "metadata": {},
   "source": [
    "Q1: Program to substract two complex numbers?"
   ]
  },
  {
   "cell_type": "code",
   "execution_count": 2,
   "metadata": {},
   "outputs": [
    {
     "name": "stdout",
     "output_type": "stream",
     "text": [
      "(6+2j)\n"
     ]
    }
   ],
   "source": [
    "a=10+4j\n",
    "b=4+2j\n",
    "c=a-b\n",
    "print(c)"
   ]
  },
  {
   "cell_type": "raw",
   "metadata": {},
   "source": [
    "c=(x+yj)-(x+yj)"
   ]
  },
  {
   "cell_type": "code",
   "execution_count": null,
   "metadata": {},
   "outputs": [],
   "source": []
  },
  {
   "cell_type": "markdown",
   "metadata": {},
   "source": [
    "Q2: Program to find 4th root for a number?"
   ]
  },
  {
   "cell_type": "code",
   "execution_count": 33,
   "metadata": {},
   "outputs": [
    {
     "name": "stdout",
     "output_type": "stream",
     "text": [
      "4th root of a=2 is: 16\n",
      "4th root of b=3 is: 81\n"
     ]
    }
   ],
   "source": [
    "a=2**4\n",
    "b=3**4\n",
    "print(\"4th root of a=2 is:\",a)\n",
    "print(\"4th root of b=3 is:\",b)"
   ]
  },
  {
   "cell_type": "code",
   "execution_count": null,
   "metadata": {},
   "outputs": [],
   "source": []
  },
  {
   "cell_type": "markdown",
   "metadata": {},
   "source": [
    "Q3: program to swap two numbers with temparary Variable?"
   ]
  },
  {
   "cell_type": "code",
   "execution_count": 18,
   "metadata": {
    "scrolled": true
   },
   "outputs": [
    {
     "name": "stdout",
     "output_type": "stream",
     "text": [
      "2\n",
      "5 5\n"
     ]
    }
   ],
   "source": [
    "a=2\n",
    "b=5\n",
    "Temp=a\n",
    "a=b\n",
    "print(Temp)\n",
    "print(a,b)"
   ]
  },
  {
   "cell_type": "markdown",
   "metadata": {},
   "source": [
    "here,actually a=2 and b=5 swapped as a=5 and b=2 . where temparary variable stored with actual a"
   ]
  },
  {
   "cell_type": "markdown",
   "metadata": {},
   "source": [
    "Q4: Program to swap Numbers without using temparary variables?\n"
   ]
  },
  {
   "cell_type": "code",
   "execution_count": 25,
   "metadata": {
    "scrolled": true
   },
   "outputs": [
    {
     "name": "stdout",
     "output_type": "stream",
     "text": [
      "Value of a= 2 value of b= 3\n",
      "after swapping we get value of a= 3 Value of b= 2\n"
     ]
    }
   ],
   "source": [
    "a=2\n",
    "b=3\n",
    "print(\"Value of a=\",a,\"value of b=\",b)\n",
    "a,b=b,a\n",
    "print(\"after swapping we get\",\"value of a=\",a,\"Value of b=\",b)"
   ]
  },
  {
   "cell_type": "code",
   "execution_count": null,
   "metadata": {},
   "outputs": [],
   "source": []
  },
  {
   "cell_type": "markdown",
   "metadata": {},
   "source": [
    "Q5: Program to convert Fahrenheit to Kelvin and Celsius ?"
   ]
  },
  {
   "cell_type": "code",
   "execution_count": 29,
   "metadata": {},
   "outputs": [
    {
     "name": "stdout",
     "output_type": "stream",
     "text": [
      "enter value of Fahrenheit:94\n",
      "Temparature in Kelvin is: 307.94444444444446\n",
      "Temparature in Celsius is: 34.44444444444444\n"
     ]
    }
   ],
   "source": [
    "F=float(input(\"enter value of Fahrenheit:\"))\n",
    "K=273.5+((F-32)*5/9)\n",
    "C=(F-32)*5/9\n",
    "print(\"Temparature in Kelvin is:\",K) \n",
    "print(\"Temparature in Celsius is:\",C)"
   ]
  },
  {
   "cell_type": "markdown",
   "metadata": {},
   "source": [
    "Here,To Find Temparatures\n",
    "\n",
    "Kelvin == 273.5 + Celcius\n",
    "\n",
    "Celsius== (Fahrenheit - 32) * 5/9\n",
    "\n",
    "Fahrenheit== (Celsius*9/5)+32"
   ]
  },
  {
   "cell_type": "code",
   "execution_count": null,
   "metadata": {},
   "outputs": [],
   "source": []
  },
  {
   "cell_type": "markdown",
   "metadata": {},
   "source": [
    "Q6: program to demonstrate data types in py"
   ]
  },
  {
   "cell_type": "code",
   "execution_count": 31,
   "metadata": {},
   "outputs": [
    {
     "name": "stdout",
     "output_type": "stream",
     "text": [
      "<class 'int'>\n",
      "<class 'float'>\n",
      "<class 'int'>\n",
      "<class 'str'>\n",
      "<class 'float'>\n"
     ]
    }
   ],
   "source": [
    "a=5\n",
    "b=3.14\n",
    "c=947450582303027\n",
    "d=\"RevanKumar Sanganamoni\"\n",
    "e=3/5\n",
    "print(type(a))\n",
    "print(type(b))\n",
    "print(type(c))\n",
    "print(type(d))\n",
    "print(type(e))"
   ]
  },
  {
   "cell_type": "markdown",
   "metadata": {},
   "source": [
    "without using print also we get result of Datatype Type just by type(a) ...Difference that Indication of class will be hidden"
   ]
  },
  {
   "cell_type": "code",
   "execution_count": null,
   "metadata": {},
   "outputs": [],
   "source": []
  }
 ],
 "metadata": {
  "kernelspec": {
   "display_name": "Python 3",
   "language": "python",
   "name": "python3"
  },
  "language_info": {
   "codemirror_mode": {
    "name": "ipython",
    "version": 3
   },
   "file_extension": ".py",
   "mimetype": "text/x-python",
   "name": "python",
   "nbconvert_exporter": "python",
   "pygments_lexer": "ipython3",
   "version": "3.8.3"
  }
 },
 "nbformat": 4,
 "nbformat_minor": 4
}

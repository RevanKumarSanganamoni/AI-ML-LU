{
 "cells": [
  {
   "cell_type": "code",
   "execution_count": null,
   "metadata": {},
   "outputs": [],
   "source": []
  },
  {
   "cell_type": "markdown",
   "metadata": {},
   "source": [
    "# SET"
   ]
  },
  {
   "cell_type": "markdown",
   "metadata": {},
   "source": [
    ">>> is a collection which is unordered and unindexed"
   ]
  },
  {
   "cell_type": "markdown",
   "metadata": {},
   "source": [
    ">set\n",
    ">>add(),update()\n",
    ">>>len()\n",
    ">>>>remove(),discard(),pop()\n",
    ">>>>>clear()\n",
    ">>>>>>del varname  (delates total set)\n",
    ">>>>>>>union(),update()\n",
    ">>>>>>>>set() constructor\n",
    ">>>>>>>>>intersection()\n",
    "\n"
   ]
  },
  {
   "cell_type": "code",
   "execution_count": 5,
   "metadata": {},
   "outputs": [
    {
     "name": "stdout",
     "output_type": "stream",
     "text": [
      "{'Revan', 'Chan', 'Vinod'}\n"
     ]
    }
   ],
   "source": [
    "setof={\"Revan\",\"Chan\",\"Vinod\"}\n",
    "print(setof)"
   ]
  },
  {
   "cell_type": "code",
   "execution_count": 6,
   "metadata": {},
   "outputs": [
    {
     "name": "stdout",
     "output_type": "stream",
     "text": [
      "True\n"
     ]
    }
   ],
   "source": [
    "setof={\"Revan\",\"Chan\",\"Vinod\"}\n",
    "print(\"Revan\" in setof)"
   ]
  },
  {
   "cell_type": "markdown",
   "metadata": {},
   "source": [
    "__add() and update()__"
   ]
  },
  {
   "cell_type": "code",
   "execution_count": 22,
   "metadata": {},
   "outputs": [
    {
     "name": "stdout",
     "output_type": "stream",
     "text": [
      "{'Revan', 'Chan', 'Vinod', 'Rama'}\n",
      "{'Chan', 'Vinod', 'Rama', 'Revan', 'RamaKala'}\n"
     ]
    }
   ],
   "source": [
    "setof={\"Revan\",\"Chan\",\"Vinod\"}\n",
    "setof.add(\"Rama\")\n",
    "print(setof)\n",
    "setof.update([\"RamaKala\"])\n",
    "print(setof)"
   ]
  },
  {
   "cell_type": "markdown",
   "metadata": {},
   "source": [
    "__Length function: len()__"
   ]
  },
  {
   "cell_type": "code",
   "execution_count": 23,
   "metadata": {},
   "outputs": [
    {
     "name": "stdout",
     "output_type": "stream",
     "text": [
      "3\n"
     ]
    }
   ],
   "source": [
    "setof={\"Revan\",\"Chan\",\"Vinod\"}\n",
    "print(len(setof))\n"
   ]
  },
  {
   "cell_type": "markdown",
   "metadata": {},
   "source": [
    "__remove() , discard() , pop()__"
   ]
  },
  {
   "cell_type": "code",
   "execution_count": 24,
   "metadata": {},
   "outputs": [
    {
     "name": "stdout",
     "output_type": "stream",
     "text": [
      "{'Revan', 'Vinod'}\n"
     ]
    }
   ],
   "source": [
    "setof={\"Revan\",\"Chan\",\"Vinod\"}\n",
    "setof.remove(\"Chan\")\n",
    "print(setof)"
   ]
  },
  {
   "cell_type": "code",
   "execution_count": 25,
   "metadata": {},
   "outputs": [
    {
     "name": "stdout",
     "output_type": "stream",
     "text": [
      "{'Revan', 'Vinod'}\n"
     ]
    }
   ],
   "source": [
    "setof={\"Revan\",\"Chan\",\"Vinod\"}\n",
    "setof.discard(\"Chan\")\n",
    "print(setof)"
   ]
  },
  {
   "cell_type": "code",
   "execution_count": 27,
   "metadata": {},
   "outputs": [
    {
     "name": "stdout",
     "output_type": "stream",
     "text": [
      "{'Chan', 'Vinod'}\n"
     ]
    }
   ],
   "source": [
    "setof={\"Revan\",\"Chan\",\"Vinod\"}\n",
    "setof.pop()\n",
    "print(setof)"
   ]
  },
  {
   "cell_type": "markdown",
   "metadata": {},
   "source": [
    "__clear()__"
   ]
  },
  {
   "cell_type": "code",
   "execution_count": 29,
   "metadata": {},
   "outputs": [
    {
     "name": "stdout",
     "output_type": "stream",
     "text": [
      "{'Revan', 'Chan', 'Vinod'}\n",
      "after clear is:  set()\n"
     ]
    }
   ],
   "source": [
    "setof={\"Revan\",\"Chan\",\"Vinod\"}\n",
    "print(setof)\n",
    "setof.clear()\n",
    "print(\"after clear is: \" ,setof)"
   ]
  },
  {
   "cell_type": "markdown",
   "metadata": {},
   "source": [
    "__use of del()__"
   ]
  },
  {
   "cell_type": "code",
   "execution_count": 31,
   "metadata": {},
   "outputs": [
    {
     "name": "stdout",
     "output_type": "stream",
     "text": [
      "{'Revan', 'Chan', 'Vinod'}\n"
     ]
    },
    {
     "ename": "NameError",
     "evalue": "name 'setof' is not defined",
     "output_type": "error",
     "traceback": [
      "\u001b[1;31m---------------------------------------------------------------------------\u001b[0m",
      "\u001b[1;31mNameError\u001b[0m                                 Traceback (most recent call last)",
      "\u001b[1;32m<ipython-input-31-135b91478d1d>\u001b[0m in \u001b[0;36m<module>\u001b[1;34m\u001b[0m\n\u001b[0;32m      2\u001b[0m \u001b[0mprint\u001b[0m\u001b[1;33m(\u001b[0m\u001b[0msetof\u001b[0m\u001b[1;33m)\u001b[0m\u001b[1;33m\u001b[0m\u001b[1;33m\u001b[0m\u001b[0m\n\u001b[0;32m      3\u001b[0m \u001b[1;32mdel\u001b[0m \u001b[0msetof\u001b[0m\u001b[1;33m\u001b[0m\u001b[1;33m\u001b[0m\u001b[0m\n\u001b[1;32m----> 4\u001b[1;33m \u001b[0mprint\u001b[0m\u001b[1;33m(\u001b[0m\u001b[0msetof\u001b[0m\u001b[1;33m)\u001b[0m\u001b[1;33m\u001b[0m\u001b[1;33m\u001b[0m\u001b[0m\n\u001b[0m",
      "\u001b[1;31mNameError\u001b[0m: name 'setof' is not defined"
     ]
    }
   ],
   "source": [
    "setof={\"Revan\",\"Chan\",\"Vinod\"}\n",
    "print(setof)\n",
    "del setof\n",
    "print(setof)"
   ]
  },
  {
   "cell_type": "markdown",
   "metadata": {},
   "source": [
    "__union() and intersection()__"
   ]
  },
  {
   "cell_type": "code",
   "execution_count": 38,
   "metadata": {},
   "outputs": [
    {
     "name": "stdout",
     "output_type": "stream",
     "text": [
      "union is :  {'kala', 'Chan', 'Vinod', 'Rama', 'Revan'}\n"
     ]
    }
   ],
   "source": [
    "setof={\"Revan\",\"Chan\",\"Vinod\"}\n",
    "setof2={\"Rama\",\"kala\"}\n",
    "unionset=setof.union(setof2)\n",
    "print(\"union is : \",unionset)"
   ]
  },
  {
   "cell_type": "code",
   "execution_count": 43,
   "metadata": {},
   "outputs": [
    {
     "name": "stdout",
     "output_type": "stream",
     "text": [
      "set1 is:  {'Revan', 'Chan', 'Vinod'} \n",
      " set2 is :  {'kala', 'Rama'} \n",
      " set 3 is :  {'karna', 'abhi', 'Revan'}\n",
      "intersect for set 1 & 2 is : set()\n",
      "intersect for set 1 & 3 is : {'Revan'}\n"
     ]
    }
   ],
   "source": [
    "setof={\"Revan\",\"Chan\",\"Vinod\"}\n",
    "setof2={\"Rama\",\"kala\"}\n",
    "setof3={\"karna\",\"abhi\",\"Revan\"}\n",
    "print(\"set1 is: \",setof,\"\\n\",\"set2 is : \",setof2,\"\\n\",\"set 3 is : \",setof3)\n",
    "intersectset=setof.intersection(setof2)\n",
    "print(\"intersect for set 1 & 2 is :\",intersectset)\n",
    "\n",
    "intersectset1=setof.intersection(setof3)\n",
    "print(\"intersect for set 1 & 3 is :\",intersectset1)\n"
   ]
  },
  {
   "cell_type": "markdown",
   "metadata": {},
   "source": [
    "__update() as union()__"
   ]
  },
  {
   "cell_type": "code",
   "execution_count": 45,
   "metadata": {},
   "outputs": [
    {
     "name": "stdout",
     "output_type": "stream",
     "text": [
      "updated set is :  {'kala', 'Chan', 'Vinod', 'Rama', 'Revan'}\n"
     ]
    }
   ],
   "source": [
    "setof={\"Revan\",\"Chan\",\"Vinod\"}\n",
    "setof2={\"Rama\",\"kala\",\"Revan\"}\n",
    "setof.update(setof2)\n",
    "print(\"updated set is : \",setof)"
   ]
  },
  {
   "cell_type": "markdown",
   "metadata": {},
   "source": [
    "__set() Constructor__"
   ]
  },
  {
   "cell_type": "code",
   "execution_count": 46,
   "metadata": {},
   "outputs": [
    {
     "name": "stdout",
     "output_type": "stream",
     "text": [
      "set constructor is :  {'Revan', 'Chan', 'Vinod'}\n"
     ]
    }
   ],
   "source": [
    "setof=set((\"Revan\",\"Chan\",\"Vinod\"))\n",
    "print(\"set constructor is : \",setof)"
   ]
  },
  {
   "cell_type": "markdown",
   "metadata": {},
   "source": [
    "__if operation on set__ "
   ]
  },
  {
   "cell_type": "code",
   "execution_count": 54,
   "metadata": {},
   "outputs": [
    {
     "name": "stdout",
     "output_type": "stream",
     "text": [
      "no\n"
     ]
    }
   ],
   "source": [
    "sanganamoni={\"Revan\",\"Chan\",\"Vinod\",\"Rama\",\"kala\"}\n",
    "bujili={\"karna\",\"abhi\",\"Revan\"}\n",
    "if \"Revan\" in sanganamoni and \"Chan\" in bujili:\n",
    "    print(\"yes\")\n",
    "else:\n",
    "    print(\"no\")\n",
    "    "
   ]
  },
  {
   "cell_type": "code",
   "execution_count": null,
   "metadata": {},
   "outputs": [],
   "source": []
  }
 ],
 "metadata": {
  "kernelspec": {
   "display_name": "Python 3",
   "language": "python",
   "name": "python3"
  },
  "language_info": {
   "codemirror_mode": {
    "name": "ipython",
    "version": 3
   },
   "file_extension": ".py",
   "mimetype": "text/x-python",
   "name": "python",
   "nbconvert_exporter": "python",
   "pygments_lexer": "ipython3",
   "version": "3.8.3"
  }
 },
 "nbformat": 4,
 "nbformat_minor": 4
}
